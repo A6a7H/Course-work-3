{
 "cells": [
  {
   "cell_type": "code",
   "execution_count": 53,
   "metadata": {},
   "outputs": [],
   "source": [
    "import matplotlib.pyplot as plt\n",
    "import numpy as np\n",
    "from tqdm import tqdm\n",
    "\n",
    "import torch\n",
    "import torch.nn as nn\n",
    "import torchvision.datasets as datasets\n",
    "# from torchvision.datasets import MNIST\n",
    "from keras.datasets import mnist\n",
    "from torch.utils.data import DataLoader\n",
    "import torch.optim as optim\n",
    "\n",
    "from torchvision import transforms\n",
    "import torchvision\n",
    "import torchsummary\n",
    "\n",
    "from networks.generator import ResNetGenerator"
   ]
  },
  {
   "cell_type": "code",
   "execution_count": 2,
   "metadata": {},
   "outputs": [],
   "source": [
    "simple = transforms.Compose([\n",
    "    transforms.ToTensor(), # converts to [0,1] interval\n",
    "])\n",
    "mnist_trainset = datasets.MNIST(root='./datasets/mnist', train=True, download=True, transform=simple)"
   ]
  },
  {
   "cell_type": "code",
   "execution_count": 35,
   "metadata": {},
   "outputs": [
    {
     "name": "stdout",
     "output_type": "stream",
     "text": [
      "----------------------------------------------------------------\n",
      "        Layer (type)               Output Shape         Param #\n",
      "================================================================\n",
      "            Conv2d-1           [-1, 32, 28, 28]           1,568\n",
      "            Conv2d-2           [-1, 32, 28, 28]           1,568\n",
      "    InstanceNorm2d-3           [-1, 32, 28, 28]              64\n",
      "    InstanceNorm2d-4           [-1, 32, 28, 28]              64\n",
      "              ReLU-5           [-1, 32, 28, 28]               0\n",
      "              ReLU-6           [-1, 32, 28, 28]               0\n",
      "            Conv2d-7           [-1, 64, 14, 14]          18,432\n",
      "            Conv2d-8           [-1, 64, 14, 14]          18,432\n",
      "    InstanceNorm2d-9           [-1, 64, 14, 14]             128\n",
      "   InstanceNorm2d-10           [-1, 64, 14, 14]             128\n",
      "             ReLU-11           [-1, 64, 14, 14]               0\n",
      "             ReLU-12           [-1, 64, 14, 14]               0\n",
      "DownsamplingBlock-13           [-1, 64, 14, 14]               0\n",
      "DownsamplingBlock-14           [-1, 64, 14, 14]               0\n",
      "           Conv2d-15            [-1, 128, 7, 7]          73,728\n",
      "           Conv2d-16            [-1, 128, 7, 7]          73,728\n",
      "   InstanceNorm2d-17            [-1, 128, 7, 7]             256\n",
      "   InstanceNorm2d-18            [-1, 128, 7, 7]             256\n",
      "             ReLU-19            [-1, 128, 7, 7]               0\n",
      "             ReLU-20            [-1, 128, 7, 7]               0\n",
      "DownsamplingBlock-21            [-1, 128, 7, 7]               0\n",
      "DownsamplingBlock-22            [-1, 128, 7, 7]               0\n",
      "           Conv2d-23            [-1, 128, 7, 7]         147,456\n",
      "           Conv2d-24            [-1, 128, 7, 7]         147,456\n",
      "   InstanceNorm2d-25            [-1, 128, 7, 7]             256\n",
      "   InstanceNorm2d-26            [-1, 128, 7, 7]             256\n",
      "             ReLU-27            [-1, 128, 7, 7]               0\n",
      "             ReLU-28            [-1, 128, 7, 7]               0\n",
      "           Conv2d-29            [-1, 128, 7, 7]         147,456\n",
      "           Conv2d-30            [-1, 128, 7, 7]         147,456\n",
      "   InstanceNorm2d-31            [-1, 128, 7, 7]             256\n",
      "   InstanceNorm2d-32            [-1, 128, 7, 7]             256\n",
      "    ResidualBlock-33            [-1, 128, 7, 7]               0\n",
      "    ResidualBlock-34            [-1, 128, 7, 7]               0\n",
      "ResNetGenerator_encoder-35            [-1, 128, 7, 7]               0\n",
      "ResNetGenerator_encoder-36            [-1, 128, 7, 7]               0\n",
      "  ConvTranspose2d-37           [-1, 64, 14, 14]          73,728\n",
      "  ConvTranspose2d-38           [-1, 64, 14, 14]          73,728\n",
      "   InstanceNorm2d-39           [-1, 64, 14, 14]             128\n",
      "   InstanceNorm2d-40           [-1, 64, 14, 14]             128\n",
      "             ReLU-41           [-1, 64, 14, 14]               0\n",
      "             ReLU-42           [-1, 64, 14, 14]               0\n",
      "  UpsamplingBlock-43           [-1, 64, 14, 14]               0\n",
      "  UpsamplingBlock-44           [-1, 64, 14, 14]               0\n",
      "  ConvTranspose2d-45           [-1, 32, 28, 28]          18,432\n",
      "  ConvTranspose2d-46           [-1, 32, 28, 28]          18,432\n",
      "   InstanceNorm2d-47           [-1, 32, 28, 28]              64\n",
      "   InstanceNorm2d-48           [-1, 32, 28, 28]              64\n",
      "             ReLU-49           [-1, 32, 28, 28]               0\n",
      "             ReLU-50           [-1, 32, 28, 28]               0\n",
      "  UpsamplingBlock-51           [-1, 32, 28, 28]               0\n",
      "  UpsamplingBlock-52           [-1, 32, 28, 28]               0\n",
      "           Conv2d-53            [-1, 1, 28, 28]           1,568\n",
      "           Conv2d-54            [-1, 1, 28, 28]           1,568\n",
      "             Tanh-55            [-1, 1, 28, 28]               0\n",
      "             Tanh-56            [-1, 1, 28, 28]               0\n",
      "ResNetGenerator_decoder-57            [-1, 1, 28, 28]               0\n",
      "ResNetGenerator_decoder-58            [-1, 1, 28, 28]               0\n",
      "================================================================\n",
      "Total params: 967,040\n",
      "Trainable params: 967,040\n",
      "Non-trainable params: 0\n",
      "----------------------------------------------------------------\n",
      "Input size (MB): 0.00\n",
      "Forward/backward pass size (MB): 5.30\n",
      "Params size (MB): 3.69\n",
      "Estimated Total Size (MB): 8.99\n",
      "----------------------------------------------------------------\n"
     ]
    }
   ],
   "source": [
    "model1 = ResNetGenerator(c_dim=1, conv_dim=32, repeat_num=1, n_down=2)\n",
    "torchsummary.summary(model1, (1, 28, 28))"
   ]
  },
  {
   "cell_type": "code",
   "execution_count": 5,
   "metadata": {},
   "outputs": [],
   "source": [
    "class NetworkBase(nn.Module):\n",
    "    def __init__(self):\n",
    "        super(NetworkBase, self).__init__()\n",
    "        self._name = 'BaseNetwork'\n",
    "\n",
    "    @property\n",
    "    def name(self):\n",
    "        return self._name\n",
    "\n",
    "    def init_weights(self):\n",
    "        self.apply(self._weights_init_fn)\n",
    "\n",
    "    def _weights_init_fn(self, m):\n",
    "        classname = m.__class__.__name__\n",
    "        if classname.find('Conv') != -1:\n",
    "            m.weight.data.normal_(0.0, 0.02)\n",
    "            if hasattr(m.bias, 'data'):\n",
    "                m.bias.data.fill_(0)\n",
    "        elif classname.find('BatchNorm2d') != -1:\n",
    "            m.weight.data.normal_(1.0, 0.02)\n",
    "            m.bias.data.fill_(0)\n",
    "\n",
    "    def _get_norm_layer(self, norm_type='batch'):\n",
    "        if norm_type == 'batch':\n",
    "            norm_layer = functools.partial(nn.BatchNorm2d, affine=True)\n",
    "        elif norm_type == 'instance':\n",
    "            norm_layer = functools.partial(nn.InstanceNorm2d, affine=False)\n",
    "        elif norm_type == 'batchnorm2d':\n",
    "            norm_layer = nn.BatchNorm2d\n",
    "        else:\n",
    "            raise NotImplementedError('normalization layer [%s] is not found' % norm_type)\n",
    "\n",
    "        return norm_layer\n",
    "\n",
    "    def forward(self, *input):\n",
    "        raise NotImplementedError"
   ]
  },
  {
   "cell_type": "code",
   "execution_count": 6,
   "metadata": {},
   "outputs": [],
   "source": [
    "import torch.nn as nn\n",
    "import torch.nn.functional as F\n",
    "import torch\n",
    "\n",
    "\n",
    "class ResidualBlock(nn.Module):\n",
    "    \"\"\"Residual Block.\"\"\"\n",
    "    def __init__(self, dim_in, dim_out):\n",
    "        super(ResidualBlock, self).__init__()\n",
    "        self.main = nn.Sequential(\n",
    "            nn.Conv2d(dim_in, dim_out, kernel_size=3, stride=1, padding=1, bias=False),\n",
    "            nn.InstanceNorm2d(dim_out, affine=True),\n",
    "            nn.ReLU(inplace=True),\n",
    "            nn.Conv2d(dim_out, dim_out, kernel_size=3, stride=1, padding=1, bias=False),\n",
    "            nn.InstanceNorm2d(dim_out, affine=True))\n",
    "\n",
    "    def forward(self, x):\n",
    "        return x + self.main(x)\n",
    "\n",
    "\n",
    "class ResNetGenerator1(nn.Module):\n",
    "    \"\"\"Generator. Encoder-Decoder Architecture.\"\"\"\n",
    "    def __init__(self, conv_dim=64, c_dim=5, repeat_num=9, k_size=4, n_down=2):\n",
    "        super(ResNetGenerator1, self).__init__()\n",
    "        self._name = 'resnet_generator'\n",
    "\n",
    "        layers = []\n",
    "        layers.append(nn.Conv2d(c_dim, conv_dim, kernel_size=7, stride=1, padding=3, bias=False))\n",
    "        layers.append(nn.InstanceNorm2d(conv_dim, affine=True))\n",
    "        layers.append(nn.ReLU(inplace=True))\n",
    "\n",
    "        # Down-Sampling\n",
    "        curr_dim = conv_dim\n",
    "        for i in range(n_down):\n",
    "            layers.append(nn.Conv2d(curr_dim, curr_dim*2, kernel_size=k_size, stride=2, padding=1, bias=False))\n",
    "            layers.append(nn.InstanceNorm2d(curr_dim*2, affine=True))\n",
    "            layers.append(nn.ReLU(inplace=True))\n",
    "            curr_dim = curr_dim * 2\n",
    "\n",
    "        # Bottleneck\n",
    "        for i in range(repeat_num):\n",
    "            layers.append(ResidualBlock(dim_in=curr_dim, dim_out=curr_dim))\n",
    "\n",
    "        # Up-Sampling\n",
    "        for i in range(n_down):\n",
    "            layers.append(nn.ConvTranspose2d(curr_dim, curr_dim//2, kernel_size=k_size, stride=2, padding=1,\n",
    "                                             output_padding=1, bias=False))\n",
    "            layers.append(nn.InstanceNorm2d(curr_dim//2, affine=True))\n",
    "            layers.append(nn.ReLU(inplace=True))\n",
    "            curr_dim = curr_dim // 2\n",
    "\n",
    "        layers.append(nn.Conv2d(curr_dim, 1, kernel_size=7, stride=1, padding=3, bias=False))\n",
    "        layers.append(nn.Tanh())\n",
    "\n",
    "        self.model = nn.Sequential(*layers)\n",
    "\n",
    "    def forward(self, x, c=None):\n",
    "        if c is not None:\n",
    "            # replicate spatially and concatenate domain information\n",
    "            c = c.unsqueeze(2).unsqueeze(3)\n",
    "            c = c.expand(c.size(0), c.size(1), x.size(2), x.size(3))\n",
    "            x = torch.cat([x, c], dim=1)\n",
    "        return self.model(x)"
   ]
  },
  {
   "cell_type": "code",
   "execution_count": 7,
   "metadata": {},
   "outputs": [],
   "source": [
    "class Encoderdecoder(nn.Module):\n",
    "    \"\"\"Generator. Encoder-Decoder Architecture.\"\"\"\n",
    "    def __init__(self, conv_dim=64, c_dim=5, repeat_num=9, k_size=4, n_down=2):\n",
    "        super(Encoderdecoder, self).__init__()\n",
    "        self._name = 'resnet_generator'\n",
    "\n",
    "        layers = []\n",
    "        layers.append(nn.Conv2d(c_dim, conv_dim, kernel_size=3, stride=1, padding=0, bias=False))\n",
    "        c_dim = conv_dim\n",
    "        conv_dim *= 2\n",
    "        layers.append(nn.Conv2d(c_dim, conv_dim, kernel_size=3, stride=1, padding=0, bias=False))\n",
    "        c_dim = conv_dim\n",
    "        conv_dim *= 2\n",
    "        layers.append(nn.Conv2d(c_dim, conv_dim, kernel_size=3, stride=1, padding=0, bias=False))\n",
    "        c_dim = conv_dim\n",
    "        conv_dim *= 2\n",
    "        layers.append(nn.Conv2d(c_dim, conv_dim, kernel_size=3, stride=1, padding=0, bias=False))\n",
    "        c_dim = conv_dim\n",
    "        conv_dim *= 2\n",
    "        layers.append(nn.Conv2d(c_dim, conv_dim, kernel_size=3, stride=1, padding=0, bias=False))\n",
    "        c_dim = conv_dim\n",
    "        conv_dim *= 2\n",
    "        layers.append(nn.Conv2d(c_dim, conv_dim, kernel_size=3, stride=1, padding=0, bias=False))\n",
    "#         c_dim = conv_dim\n",
    "#         conv_dim *= 2\n",
    "        layers.append(nn.ConvTranspose2d(conv_dim, conv_dim//2, kernel_size=k_size, stride=1, padding=0,\n",
    "                                             output_padding=0, bias=False))\n",
    "#         c_dim = conv_dim\n",
    "        conv_dim = conv_dim // 2\n",
    "        layers.append(nn.ConvTranspose2d(conv_dim, conv_dim//2, kernel_size=k_size, stride=1, padding=0,\n",
    "                                             output_padding=0, bias=False))\n",
    "#         c_dim = conv_dim\n",
    "        conv_dim = conv_dim // 2\n",
    "        layers.append(nn.ConvTranspose2d(conv_dim, conv_dim//2, kernel_size=k_size, stride=1, padding=0,\n",
    "                                             output_padding=0, bias=False))\n",
    "        conv_dim = conv_dim // 2\n",
    "        layers.append(nn.ConvTranspose2d(conv_dim, 1, kernel_size=k_size, stride=1, padding=0,\n",
    "                                             output_padding=0, bias=False))\n",
    "\n",
    "        self.model = nn.Sequential(*layers)\n",
    "\n",
    "    def forward(self, x, c=None):\n",
    "        if c is not None:\n",
    "            # replicate spatially and concatenate domain information\n",
    "            c = c.unsqueeze(2).unsqueeze(3)\n",
    "            c = c.expand(c.size(0), c.size(1), x.size(2), x.size(3))\n",
    "            x = torch.cat([x, c], dim=1)\n",
    "        return self.model(x)"
   ]
  },
  {
   "cell_type": "code",
   "execution_count": 8,
   "metadata": {},
   "outputs": [],
   "source": [
    "class autoencoder(nn.Module):\n",
    "    def __init__(self):\n",
    "        super(autoencoder, self).__init__()\n",
    "        self.encoder = nn.Sequential(\n",
    "            nn.Conv2d(1, 16, 3, stride=3, padding=1),  # b, 16, 10, 10\n",
    "            nn.ReLU(True),\n",
    "            nn.MaxPool2d(2, stride=2),  # b, 16, 5, 5\n",
    "            nn.Conv2d(16, 8, 3, stride=2, padding=1),  # b, 8, 3, 3\n",
    "            nn.ReLU(True),\n",
    "            nn.MaxPool2d(2, stride=1)  # b, 8, 2, 2\n",
    "        )\n",
    "        self.decoder = nn.Sequential(\n",
    "            nn.ConvTranspose2d(8, 16, 3, stride=2),  # b, 16, 5, 5\n",
    "            nn.ReLU(True),\n",
    "            nn.ConvTranspose2d(16, 8, 5, stride=3, padding=1),  # b, 8, 15, 15\n",
    "            nn.ReLU(True),\n",
    "            nn.ConvTranspose2d(8, 1, 2, stride=2, padding=1),  # b, 1, 28, 28\n",
    "            nn.Tanh()\n",
    "        )\n",
    "\n",
    "    def forward(self, x):\n",
    "        x = self.encoder(x)\n",
    "        x = self.decoder(x)\n",
    "        return x"
   ]
  },
  {
   "cell_type": "code",
   "execution_count": 9,
   "metadata": {},
   "outputs": [],
   "source": [
    "(x_train, y_train), (x_test, y_test) = mnist.load_data()"
   ]
  },
  {
   "cell_type": "code",
   "execution_count": 10,
   "metadata": {},
   "outputs": [],
   "source": [
    "x_train = x_train.astype('float32') / 255.\n",
    "x_test = x_test.astype('float32') / 255.\n",
    "x_train = np.reshape(x_train, (len(x_train), 1, 28, 28))  # adapt this if using `channels_first` image data format\n",
    "x_test = np.reshape(x_test, (len(x_test), 1, 28, 28))  # adapt this if using `channels_first` i"
   ]
  },
  {
   "cell_type": "code",
   "execution_count": 11,
   "metadata": {},
   "outputs": [
    {
     "data": {
      "text/plain": [
       "(1, 28, 28)"
      ]
     },
     "execution_count": 11,
     "metadata": {},
     "output_type": "execute_result"
    }
   ],
   "source": [
    "x_train[0].shape"
   ]
  },
  {
   "cell_type": "code",
   "execution_count": 12,
   "metadata": {},
   "outputs": [],
   "source": [
    "def salt_and_pepper(x_train,x_test,factor):\n",
    "    noise_factor = factor\n",
    "    \n",
    "    x_train_noisy = x_train + noise_factor * np.random.normal(loc=0.0, scale=1.0, size=x_train.shape)\n",
    "    x_test_noisy = x_test + noise_factor * np.random.normal(loc=0.0, scale=1.0, size=x_test.shape)\n",
    "\n",
    "    x_train_noisy = np.clip(x_train_noisy, 0., 1.)\n",
    "    x_test_noisy = np.clip(x_test_noisy, 0., 1.)\n",
    "    \n",
    "    return x_train_noisy,x_test_noisy"
   ]
  },
  {
   "cell_type": "code",
   "execution_count": 13,
   "metadata": {},
   "outputs": [],
   "source": [
    "def gaussian_noise(x_train,x_test,sigma):\n",
    "    row,col,ch= x_train[0].shape\n",
    "    \n",
    "    x_train_noisy = skimage.util.random_noise(x_train, mode='gaussian', seed=None, clip=True, mean=0, var=sigma**2)\n",
    "\n",
    "    x_test_noisy = skimage.util.random_noise(x_test, mode='gaussian', seed=None, clip=True, mean=0, var=sigma**2)\n",
    "\n",
    "    \n",
    "    \n",
    "    x_train_noisy = np.clip(x_train_noisy, 0., 1.)\n",
    "    x_test_noisy = np.clip(x_test_noisy, 0., 1.)\n",
    "    \n",
    "    return x_train_noisy,x_test_noisy"
   ]
  },
  {
   "cell_type": "code",
   "execution_count": 14,
   "metadata": {},
   "outputs": [],
   "source": [
    "def gamma_noise(x_train,x_test,shape,scale=1.0):\n",
    "    \n",
    "    row,col,ch = x_train[0].shape\n",
    "    \n",
    "    x_train_noisy = x_train + np.random.gamma(shape,scale,x_train.shape)\n",
    "    x_test_noisy = x_test + np.random.gamma(shape,scale,x_test.shape)\n",
    "    \n",
    "    x_train_noisy = np.clip(x_train_noisy, 0., 1.)\n",
    "    x_test_noisy = np.clip(x_test_noisy, 0., 1.)\n",
    "    \n",
    "    return x_train_noisy,x_test_noisy"
   ]
  },
  {
   "cell_type": "code",
   "execution_count": 15,
   "metadata": {},
   "outputs": [],
   "source": [
    "x_train_noisy, x_test_noisy = gamma_noise(x_train,x_test,0.5)\n",
    "class Mnistdenoizing_dataset(torch.utils.data.Dataset):\n",
    "    def __init__(self, x_train, x_train_noisy):\n",
    "        self.x_train_noisy = x_train_noisy[:10000]\n",
    "        self.x_train = x_train[:10000]\n",
    "        \n",
    "    def __getitem__(self, idx):\n",
    "        return torch.tensor(self.x_train[idx]).type(torch.double), torch.tensor(self.x_train_noisy[idx]).type(torch.double)\n",
    "    \n",
    "    def __len__(self):\n",
    "        return len(self.x_train)"
   ]
  },
  {
   "cell_type": "code",
   "execution_count": 16,
   "metadata": {},
   "outputs": [
    {
     "data": {
      "image/png": "[encoded data removed]",
      "text/plain": [
       "<Figure size 1440x144 with 9 Axes>"
      ]
     },
     "metadata": {
      "needs_background": "light"
     },
     "output_type": "display_data"
    }
   ],
   "source": [
    "n = 10\n",
    "plt.figure(figsize=(20, 2))\n",
    "for i in range(1,n):\n",
    "    ax = plt.subplot(1, n, i)\n",
    "    plt.imshow(x_train_noisy[i].reshape(28, 28))\n",
    "plt.show()"
   ]
  },
  {
   "cell_type": "code",
   "execution_count": 17,
   "metadata": {},
   "outputs": [
    {
     "data": {
      "image/png": "[encoded data removed]",
      "text/plain": [
       "<Figure size 1440x144 with 9 Axes>"
      ]
     },
     "metadata": {
      "needs_background": "light"
     },
     "output_type": "display_data"
    }
   ],
   "source": [
    "n = 10\n",
    "plt.figure(figsize=(20, 2))\n",
    "for i in range(1,n):\n",
    "    ax = plt.subplot(1, n, i)\n",
    "    plt.imshow(x_train[i].reshape(28, 28))\n",
    "plt.show()"
   ]
  },
  {
   "cell_type": "code",
   "execution_count": 37,
   "metadata": {},
   "outputs": [
    {
     "name": "stdout",
     "output_type": "stream",
     "text": [
      "----------------------------------------------------------------\n",
      "        Layer (type)               Output Shape         Param #\n",
      "================================================================\n",
      "            Conv2d-1           [-1, 32, 28, 28]           1,568\n",
      "            Conv2d-2           [-1, 32, 28, 28]           1,568\n",
      "    InstanceNorm2d-3           [-1, 32, 28, 28]              64\n",
      "    InstanceNorm2d-4           [-1, 32, 28, 28]              64\n",
      "              ReLU-5           [-1, 32, 28, 28]               0\n",
      "              ReLU-6           [-1, 32, 28, 28]               0\n",
      "            Conv2d-7           [-1, 64, 14, 14]          18,432\n",
      "            Conv2d-8           [-1, 64, 14, 14]          18,432\n",
      "    InstanceNorm2d-9           [-1, 64, 14, 14]             128\n",
      "   InstanceNorm2d-10           [-1, 64, 14, 14]             128\n",
      "             ReLU-11           [-1, 64, 14, 14]               0\n",
      "             ReLU-12           [-1, 64, 14, 14]               0\n",
      "DownsamplingBlock-13           [-1, 64, 14, 14]               0\n",
      "DownsamplingBlock-14           [-1, 64, 14, 14]               0\n",
      "           Conv2d-15            [-1, 128, 7, 7]          73,728\n",
      "           Conv2d-16            [-1, 128, 7, 7]          73,728\n",
      "   InstanceNorm2d-17            [-1, 128, 7, 7]             256\n",
      "   InstanceNorm2d-18            [-1, 128, 7, 7]             256\n",
      "             ReLU-19            [-1, 128, 7, 7]               0\n",
      "             ReLU-20            [-1, 128, 7, 7]               0\n",
      "DownsamplingBlock-21            [-1, 128, 7, 7]               0\n",
      "DownsamplingBlock-22            [-1, 128, 7, 7]               0\n",
      "           Conv2d-23            [-1, 128, 7, 7]         147,456\n",
      "           Conv2d-24            [-1, 128, 7, 7]         147,456\n",
      "   InstanceNorm2d-25            [-1, 128, 7, 7]             256\n",
      "   InstanceNorm2d-26            [-1, 128, 7, 7]             256\n",
      "             ReLU-27            [-1, 128, 7, 7]               0\n",
      "             ReLU-28            [-1, 128, 7, 7]               0\n",
      "           Conv2d-29            [-1, 128, 7, 7]         147,456\n",
      "           Conv2d-30            [-1, 128, 7, 7]         147,456\n",
      "   InstanceNorm2d-31            [-1, 128, 7, 7]             256\n",
      "   InstanceNorm2d-32            [-1, 128, 7, 7]             256\n",
      "    ResidualBlock-33            [-1, 128, 7, 7]               0\n",
      "    ResidualBlock-34            [-1, 128, 7, 7]               0\n",
      "ResNetGenerator_encoder-35            [-1, 128, 7, 7]               0\n",
      "ResNetGenerator_encoder-36            [-1, 128, 7, 7]               0\n",
      "  ConvTranspose2d-37           [-1, 64, 14, 14]          73,728\n",
      "  ConvTranspose2d-38           [-1, 64, 14, 14]          73,728\n",
      "   InstanceNorm2d-39           [-1, 64, 14, 14]             128\n",
      "   InstanceNorm2d-40           [-1, 64, 14, 14]             128\n",
      "             ReLU-41           [-1, 64, 14, 14]               0\n",
      "             ReLU-42           [-1, 64, 14, 14]               0\n",
      "  UpsamplingBlock-43           [-1, 64, 14, 14]               0\n",
      "  UpsamplingBlock-44           [-1, 64, 14, 14]               0\n",
      "  ConvTranspose2d-45           [-1, 32, 28, 28]          18,432\n",
      "  ConvTranspose2d-46           [-1, 32, 28, 28]          18,432\n",
      "   InstanceNorm2d-47           [-1, 32, 28, 28]              64\n",
      "   InstanceNorm2d-48           [-1, 32, 28, 28]              64\n",
      "             ReLU-49           [-1, 32, 28, 28]               0\n",
      "             ReLU-50           [-1, 32, 28, 28]               0\n",
      "  UpsamplingBlock-51           [-1, 32, 28, 28]               0\n",
      "  UpsamplingBlock-52           [-1, 32, 28, 28]               0\n",
      "           Conv2d-53            [-1, 1, 28, 28]           1,568\n",
      "           Conv2d-54            [-1, 1, 28, 28]           1,568\n",
      "             Tanh-55            [-1, 1, 28, 28]               0\n",
      "             Tanh-56            [-1, 1, 28, 28]               0\n",
      "ResNetGenerator_decoder-57            [-1, 1, 28, 28]               0\n",
      "ResNetGenerator_decoder-58            [-1, 1, 28, 28]               0\n",
      "================================================================\n",
      "Total params: 967,040\n",
      "Trainable params: 967,040\n",
      "Non-trainable params: 0\n",
      "----------------------------------------------------------------\n",
      "Input size (MB): 0.00\n",
      "Forward/backward pass size (MB): 5.30\n",
      "Params size (MB): 3.69\n",
      "Estimated Total Size (MB): 8.99\n",
      "----------------------------------------------------------------\n"
     ]
    }
   ],
   "source": [
    "model = autoencoder()\n",
    "model1 = ResNetGenerator(c_dim=1, conv_dim=32, repeat_num=1, n_down=2)\n",
    "torchsummary.summary(model1, (1, 28, 28))"
   ]
  },
  {
   "cell_type": "code",
   "execution_count": 38,
   "metadata": {},
   "outputs": [
    {
     "data": {
      "text/plain": [
       "<matplotlib.image.AxesImage at 0x7f019fa55358>"
      ]
     },
     "execution_count": 38,
     "metadata": {},
     "output_type": "execute_result"
    },
    {
     "data": {
      "image/png": "[encoded data removed]",
      "text/plain": [
       "<Figure size 432x288 with 1 Axes>"
      ]
     },
     "metadata": {
      "needs_background": "light"
     },
     "output_type": "display_data"
    }
   ],
   "source": [
    "plt.imshow(x_train[0][0])"
   ]
  },
  {
   "cell_type": "code",
   "execution_count": 51,
   "metadata": {},
   "outputs": [],
   "source": [
    "BATCH_SIZE = 5\n",
    "criterian = nn.MSELoss()\n",
    "d = Mnistdenoizing_dataset(x_train, x_train_noisy)\n",
    "def init_weight(layer):\n",
    "    if type(layer) == nn.Conv2d or type(layer) == nn.ConvTranspose2d:\n",
    "        torch.nn.init.uniform_(layer.weight)\n",
    "model.apply(init_weight)\n",
    "def train(model, num_epoch=1, gd=None):\n",
    "    model.double()\n",
    "    if gd is None:\n",
    "        gd = optim.Adam(model.parameters())\n",
    "    dataloader = DataLoader(d, batch_size=BATCH_SIZE, shuffle=True)\n",
    "    losses = []\n",
    "    for epoch in tqdm(range(num_epoch)):\n",
    "        model.train(True)\n",
    "        for i, batch in enumerate(dataloader):\n",
    "            gd.zero_grad()\n",
    "#             batch[0].requires_grad = True\n",
    "#             batch[1].requires_grad = True\n",
    "            f = model(batch[1])\n",
    "            loss = criterian(batch[0], f)\n",
    "            loss.backward()\n",
    "            losses.append(loss.data.cpu().numpy())\n",
    "            gd.step()\n",
    "            gd.zero_grad()\n",
    "        train_mse = np.mean(losses[-(i+1):])\n",
    "        \n",
    "        model.train(False)\n",
    "#         for i, (batch) in enumerate(dataloader_test):\n",
    "#             batch = batch.to(device=device)\n",
    "#             scores.append(model.batch_loss(batch, batch).data.cpu().numpy())\n",
    "#         test_mse  = np.mean(scores[-(i+1):])\n",
    "\n",
    "        print(f\"{epoch+1}, Train loss: {train_mse}\")"
   ]
  },
  {
   "cell_type": "code",
   "execution_count": 52,
   "metadata": {},
   "outputs": [
    {
     "name": "stderr",
     "output_type": "stream",
     "text": [
      "\n",
      "\n",
      "\n",
      "\n",
      "\n",
      "  0%|          | 0/1 [00:00<?, ?it/s]\u001b[A\u001b[A\u001b[A\u001b[A\u001b[A\n",
      "\n",
      "\n",
      "\n",
      "\n",
      "100%|██████████| 1/1 [04:10<00:00, 250.51s/it]\u001b[A\u001b[A\u001b[A\u001b[A\u001b[A"
     ]
    },
    {
     "name": "stdout",
     "output_type": "stream",
     "text": [
      "1, Train loss: 0.005652330526630424\n"
     ]
    },
    {
     "name": "stderr",
     "output_type": "stream",
     "text": [
      "\n"
     ]
    }
   ],
   "source": [
    "train(model1)"
   ]
  },
  {
   "cell_type": "code",
   "execution_count": 42,
   "metadata": {},
   "outputs": [
    {
     "data": {
      "text/plain": [
       "<matplotlib.image.AxesImage at 0x7f019f7a2940>"
      ]
     },
     "execution_count": 42,
     "metadata": {},
     "output_type": "execute_result"
    },
    {
     "data": {
      "image/png": "[encoded data removed]",
      "text/plain": [
       "<Figure size 432x288 with 1 Axes>"
      ]
     },
     "metadata": {
      "needs_background": "light"
     },
     "output_type": "display_data"
    }
   ],
   "source": [
    "plt.imshow(batch[0].detach().numpy()[0][0])"
   ]
  },
  {
   "cell_type": "code",
   "execution_count": 46,
   "metadata": {},
   "outputs": [],
   "source": [
    "with torch.no_grad():\n",
    "    res = model1.forward(torch.tensor(x_test_noisy[4]).unsqueeze(0))"
   ]
  },
  {
   "cell_type": "code",
   "execution_count": 48,
   "metadata": {},
   "outputs": [
    {
     "data": {
      "image/png": "[encoded data removed]",
      "text/plain": [
       "<Figure size 432x288 with 1 Axes>"
      ]
     },
     "metadata": {
      "needs_background": "light"
     },
     "output_type": "display_data"
    },
    {
     "data": {
      "image/png": "[encoded data removed]",
      "text/plain": [
       "<Figure size 432x288 with 1 Axes>"
      ]
     },
     "metadata": {
      "needs_background": "light"
     },
     "output_type": "display_data"
    },
    {
     "data": {
      "image/png": "[encoded data removed]",
      "text/plain": [
       "<Figure size 432x288 with 1 Axes>"
      ]
     },
     "metadata": {
      "needs_background": "light"
     },
     "output_type": "display_data"
    }
   ],
   "source": [
    "plt.imshow(x_test[4][0])\n",
    "plt.show()\n",
    "plt.imshow(x_test_noisy[4][0])\n",
    "plt.show()\n",
    "plt.imshow(res.detach().numpy()[0][0])\n",
    "plt.show()"
   ]
  }
 ],
 "metadata": {
  "kernelspec": {
   "display_name": "data-venv",
   "language": "python",
   "name": "data-venv"
  },
  "language_info": {
   "codemirror_mode": {
    "name": "ipython",
    "version": 3
   },
   "file_extension": ".py",
   "mimetype": "text/x-python",
   "name": "python",
   "nbconvert_exporter": "python",
   "pygments_lexer": "ipython3",
   "version": "3.6.9"
  }
 },
 "nbformat": 4,
 "nbformat_minor": 2
}
