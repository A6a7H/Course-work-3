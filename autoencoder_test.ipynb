{
 "cells": [
  {
   "cell_type": "code",
   "execution_count": 1,
   "metadata": {},
   "outputs": [
    {
     "name": "stderr",
     "output_type": "stream",
     "text": [
      "Using TensorFlow backend.\n",
      "/home/danjiii/Program/ML_practice/data-venv/lib/python3.6/site-packages/tensorflow/python/framework/dtypes.py:516: FutureWarning: Passing (type, 1) or '1type' as a synonym of type is deprecated; in a future version of numpy, it will be understood as (type, (1,)) / '(1,)type'.\n",
      "  _np_qint8 = np.dtype([(\"qint8\", np.int8, 1)])\n",
      "/home/danjiii/Program/ML_practice/data-venv/lib/python3.6/site-packages/tensorflow/python/framework/dtypes.py:517: FutureWarning: Passing (type, 1) or '1type' as a synonym of type is deprecated; in a future version of numpy, it will be understood as (type, (1,)) / '(1,)type'.\n",
      "  _np_quint8 = np.dtype([(\"quint8\", np.uint8, 1)])\n",
      "/home/danjiii/Program/ML_practice/data-venv/lib/python3.6/site-packages/tensorflow/python/framework/dtypes.py:518: FutureWarning: Passing (type, 1) or '1type' as a synonym of type is deprecated; in a future version of numpy, it will be understood as (type, (1,)) / '(1,)type'.\n",
      "  _np_qint16 = np.dtype([(\"qint16\", np.int16, 1)])\n",
      "/home/danjiii/Program/ML_practice/data-venv/lib/python3.6/site-packages/tensorflow/python/framework/dtypes.py:519: FutureWarning: Passing (type, 1) or '1type' as a synonym of type is deprecated; in a future version of numpy, it will be understood as (type, (1,)) / '(1,)type'.\n",
      "  _np_quint16 = np.dtype([(\"quint16\", np.uint16, 1)])\n",
      "/home/danjiii/Program/ML_practice/data-venv/lib/python3.6/site-packages/tensorflow/python/framework/dtypes.py:520: FutureWarning: Passing (type, 1) or '1type' as a synonym of type is deprecated; in a future version of numpy, it will be understood as (type, (1,)) / '(1,)type'.\n",
      "  _np_qint32 = np.dtype([(\"qint32\", np.int32, 1)])\n",
      "/home/danjiii/Program/ML_practice/data-venv/lib/python3.6/site-packages/tensorflow/python/framework/dtypes.py:525: FutureWarning: Passing (type, 1) or '1type' as a synonym of type is deprecated; in a future version of numpy, it will be understood as (type, (1,)) / '(1,)type'.\n",
      "  np_resource = np.dtype([(\"resource\", np.ubyte, 1)])\n",
      "/home/danjiii/Program/ML_practice/data-venv/lib/python3.6/site-packages/tensorboard/compat/tensorflow_stub/dtypes.py:541: FutureWarning: Passing (type, 1) or '1type' as a synonym of type is deprecated; in a future version of numpy, it will be understood as (type, (1,)) / '(1,)type'.\n",
      "  _np_qint8 = np.dtype([(\"qint8\", np.int8, 1)])\n",
      "/home/danjiii/Program/ML_practice/data-venv/lib/python3.6/site-packages/tensorboard/compat/tensorflow_stub/dtypes.py:542: FutureWarning: Passing (type, 1) or '1type' as a synonym of type is deprecated; in a future version of numpy, it will be understood as (type, (1,)) / '(1,)type'.\n",
      "  _np_quint8 = np.dtype([(\"quint8\", np.uint8, 1)])\n",
      "/home/danjiii/Program/ML_practice/data-venv/lib/python3.6/site-packages/tensorboard/compat/tensorflow_stub/dtypes.py:543: FutureWarning: Passing (type, 1) or '1type' as a synonym of type is deprecated; in a future version of numpy, it will be understood as (type, (1,)) / '(1,)type'.\n",
      "  _np_qint16 = np.dtype([(\"qint16\", np.int16, 1)])\n",
      "/home/danjiii/Program/ML_practice/data-venv/lib/python3.6/site-packages/tensorboard/compat/tensorflow_stub/dtypes.py:544: FutureWarning: Passing (type, 1) or '1type' as a synonym of type is deprecated; in a future version of numpy, it will be understood as (type, (1,)) / '(1,)type'.\n",
      "  _np_quint16 = np.dtype([(\"quint16\", np.uint16, 1)])\n",
      "/home/danjiii/Program/ML_practice/data-venv/lib/python3.6/site-packages/tensorboard/compat/tensorflow_stub/dtypes.py:545: FutureWarning: Passing (type, 1) or '1type' as a synonym of type is deprecated; in a future version of numpy, it will be understood as (type, (1,)) / '(1,)type'.\n",
      "  _np_qint32 = np.dtype([(\"qint32\", np.int32, 1)])\n",
      "/home/danjiii/Program/ML_practice/data-venv/lib/python3.6/site-packages/tensorboard/compat/tensorflow_stub/dtypes.py:550: FutureWarning: Passing (type, 1) or '1type' as a synonym of type is deprecated; in a future version of numpy, it will be understood as (type, (1,)) / '(1,)type'.\n",
      "  np_resource = np.dtype([(\"resource\", np.ubyte, 1)])\n"
     ]
    }
   ],
   "source": [
    "import matplotlib.pyplot as plt\n",
    "import numpy as np\n",
    "from tqdm import tqdm\n",
    "\n",
    "import torch\n",
    "import torch.nn as nn\n",
    "import torchvision.datasets as datasets\n",
    "# from torchvision.datasets import MNIST\n",
    "from keras.datasets import mnist\n",
    "from torch.utils.data import DataLoader\n",
    "import torch.optim as optim\n",
    "\n",
    "from torchvision import transforms\n",
    "import torchvision\n",
    "import torchsummary\n",
    "\n",
    "from networks.generator import ResNetGenerator, Decoder, Encoder, ResNetUnetGenerator"
   ]
  },
  {
   "cell_type": "code",
   "execution_count": 2,
   "metadata": {},
   "outputs": [],
   "source": [
    "simple = transforms.Compose([\n",
    "    transforms.ToTensor(),\n",
    "])\n",
    "mnist_trainset = datasets.MNIST(root='./datasets/mnist', train=True, download=True, transform=simple)"
   ]
  },
  {
   "cell_type": "code",
   "execution_count": 3,
   "metadata": {},
   "outputs": [
    {
     "name": "stdout",
     "output_type": "stream",
     "text": [
      "----------------------------------------------------------------\n",
      "        Layer (type)               Output Shape         Param #\n",
      "================================================================\n",
      "            Conv2d-1           [-1, 32, 28, 28]           1,568\n",
      "    InstanceNorm2d-2           [-1, 32, 28, 28]              64\n",
      "              ReLU-3           [-1, 32, 28, 28]               0\n",
      "            Conv2d-4           [-1, 64, 14, 14]          18,432\n",
      "    InstanceNorm2d-5           [-1, 64, 14, 14]             128\n",
      "              ReLU-6           [-1, 64, 14, 14]               0\n",
      " DownsamplingBlock-7           [-1, 64, 14, 14]               0\n",
      "            Conv2d-8            [-1, 128, 7, 7]          73,728\n",
      "    InstanceNorm2d-9            [-1, 128, 7, 7]             256\n",
      "             ReLU-10            [-1, 128, 7, 7]               0\n",
      "DownsamplingBlock-11            [-1, 128, 7, 7]               0\n",
      "       Bottleneck-12            [-1, 128, 7, 7]               0\n",
      "  ConvTranspose2d-13           [-1, 64, 14, 14]          73,728\n",
      "  ConvTranspose2d-14           [-1, 64, 14, 14]          73,728\n",
      "   InstanceNorm2d-15           [-1, 64, 14, 14]             128\n",
      "   InstanceNorm2d-16           [-1, 64, 14, 14]             128\n",
      "             ReLU-17           [-1, 64, 14, 14]               0\n",
      "             ReLU-18           [-1, 64, 14, 14]               0\n",
      "  UpsamplingBlock-19           [-1, 64, 14, 14]               0\n",
      "  UpsamplingBlock-20           [-1, 64, 14, 14]               0\n",
      "   InstanceNorm2d-21           [-1, 64, 14, 14]             128\n",
      "   InstanceNorm2d-22           [-1, 64, 14, 14]             128\n",
      "             ReLU-23           [-1, 64, 14, 14]               0\n",
      "             ReLU-24           [-1, 64, 14, 14]               0\n",
      "           Conv2d-25           [-1, 64, 14, 14]          73,728\n",
      "   InstanceNorm2d-26           [-1, 64, 14, 14]             128\n",
      "             ReLU-27           [-1, 64, 14, 14]               0\n",
      "  ConvTranspose2d-28           [-1, 32, 28, 28]          18,432\n",
      "  ConvTranspose2d-29           [-1, 32, 28, 28]          18,432\n",
      "   InstanceNorm2d-30           [-1, 32, 28, 28]              64\n",
      "   InstanceNorm2d-31           [-1, 32, 28, 28]              64\n",
      "             ReLU-32           [-1, 32, 28, 28]               0\n",
      "             ReLU-33           [-1, 32, 28, 28]               0\n",
      "  UpsamplingBlock-34           [-1, 32, 28, 28]               0\n",
      "  UpsamplingBlock-35           [-1, 32, 28, 28]               0\n",
      "   InstanceNorm2d-36           [-1, 32, 28, 28]              64\n",
      "   InstanceNorm2d-37           [-1, 32, 28, 28]              64\n",
      "             ReLU-38           [-1, 32, 28, 28]               0\n",
      "             ReLU-39           [-1, 32, 28, 28]               0\n",
      "           Conv2d-40           [-1, 32, 28, 28]          18,432\n",
      "   InstanceNorm2d-41           [-1, 32, 28, 28]              64\n",
      "             ReLU-42           [-1, 32, 28, 28]               0\n",
      "           Conv2d-43            [-1, 1, 28, 28]           1,568\n",
      "           Conv2d-44            [-1, 1, 28, 28]           1,568\n",
      "             Tanh-45            [-1, 1, 28, 28]               0\n",
      "             Tanh-46            [-1, 1, 28, 28]               0\n",
      "================================================================\n",
      "Total params: 374,752\n",
      "Trainable params: 374,752\n",
      "Non-trainable params: 0\n",
      "----------------------------------------------------------------\n",
      "Input size (MB): 0.00\n",
      "Forward/backward pass size (MB): 5.53\n",
      "Params size (MB): 1.43\n",
      "Estimated Total Size (MB): 6.96\n",
      "----------------------------------------------------------------\n"
     ]
    }
   ],
   "source": [
    "model1 = ResNetUnetGenerator(c_dim=1, conv_dim=32, repeat_num=0, n_down=2)\n",
    "encoder = Encoder()\n",
    "torchsummary.summary(model1, (1, 28, 28))"
   ]
  },
  {
   "cell_type": "code",
   "execution_count": 4,
   "metadata": {},
   "outputs": [
    {
     "data": {
      "text/plain": [
       "ModuleList(\n",
       "  (0): Sequential(\n",
       "    (0): Conv2d(128, 64, kernel_size=(3, 3), stride=(1, 1), padding=(1, 1), bias=False)\n",
       "    (1): InstanceNorm2d(64, eps=1e-05, momentum=0.1, affine=True, track_running_stats=False)\n",
       "    (2): ReLU(inplace=True)\n",
       "  )\n",
       "  (1): Sequential(\n",
       "    (0): Conv2d(64, 32, kernel_size=(3, 3), stride=(1, 1), padding=(1, 1), bias=False)\n",
       "    (1): InstanceNorm2d(32, eps=1e-05, momentum=0.1, affine=True, track_running_stats=False)\n",
       "    (2): ReLU(inplace=True)\n",
       "  )\n",
       ")"
      ]
     },
     "execution_count": 4,
     "metadata": {},
     "output_type": "execute_result"
    }
   ],
   "source": [
    "model1.decoder.skip"
   ]
  },
  {
   "cell_type": "code",
   "execution_count": 5,
   "metadata": {},
   "outputs": [],
   "source": [
    "class NetworkBase(nn.Module):\n",
    "    def __init__(self):\n",
    "        super(NetworkBase, self).__init__()\n",
    "        self._name = 'BaseNetwork'\n",
    "\n",
    "    @property\n",
    "    def name(self):\n",
    "        return self._name\n",
    "\n",
    "    def init_weights(self):\n",
    "        self.apply(self._weights_init_fn)\n",
    "\n",
    "    def _weights_init_fn(self, m):\n",
    "        classname = m.__class__.__name__\n",
    "        if classname.find('Conv') != -1:\n",
    "            m.weight.data.normal_(0.0, 0.02)\n",
    "            if hasattr(m.bias, 'data'):\n",
    "                m.bias.data.fill_(0)\n",
    "        elif classname.find('BatchNorm2d') != -1:\n",
    "            m.weight.data.normal_(1.0, 0.02)\n",
    "            m.bias.data.fill_(0)\n",
    "\n",
    "    def _get_norm_layer(self, norm_type='batch'):\n",
    "        if norm_type == 'batch':\n",
    "            norm_layer = functools.partial(nn.BatchNorm2d, affine=True)\n",
    "        elif norm_type == 'instance':\n",
    "            norm_layer = functools.partial(nn.InstanceNorm2d, affine=False)\n",
    "        elif norm_type == 'batchnorm2d':\n",
    "            norm_layer = nn.BatchNorm2d\n",
    "        else:\n",
    "            raise NotImplementedError('normalization layer [%s] is not found' % norm_type)\n",
    "\n",
    "        return norm_layer\n",
    "\n",
    "    def forward(self, *input):\n",
    "        raise NotImplementedError"
   ]
  },
  {
   "cell_type": "code",
   "execution_count": 6,
   "metadata": {},
   "outputs": [],
   "source": [
    "import torch.nn as nn\n",
    "import torch.nn.functional as F\n",
    "import torch\n",
    "\n",
    "\n",
    "class ResidualBlock(nn.Module):\n",
    "    \"\"\"Residual Block.\"\"\"\n",
    "    def __init__(self, dim_in, dim_out):\n",
    "        super(ResidualBlock, self).__init__()\n",
    "        self.main = nn.Sequential(\n",
    "            nn.Conv2d(dim_in, dim_out, kernel_size=3, stride=1, padding=1, bias=False),\n",
    "            nn.InstanceNorm2d(dim_out, affine=True),\n",
    "            nn.ReLU(inplace=True),\n",
    "            nn.Conv2d(dim_out, dim_out, kernel_size=3, stride=1, padding=1, bias=False),\n",
    "            nn.InstanceNorm2d(dim_out, affine=True))\n",
    "\n",
    "    def forward(self, x):\n",
    "        return x + self.main(x)\n",
    "\n",
    "\n",
    "class ResNetGenerator1(nn.Module):\n",
    "    \"\"\"Generator. Encoder-Decoder Architecture.\"\"\"\n",
    "    def __init__(self, conv_dim=64, c_dim=5, repeat_num=9, k_size=4, n_down=2):\n",
    "        super(ResNetGenerator1, self).__init__()\n",
    "        self._name = 'resnet_generator'\n",
    "\n",
    "        layers = []\n",
    "        layers.append(nn.Conv2d(c_dim, conv_dim, kernel_size=7, stride=1, padding=3, bias=False))\n",
    "        layers.append(nn.InstanceNorm2d(conv_dim, affine=True))\n",
    "        layers.append(nn.ReLU(inplace=True))\n",
    "\n",
    "        # Down-Sampling\n",
    "        curr_dim = conv_dim\n",
    "        for i in range(n_down):\n",
    "            layers.append(nn.Conv2d(curr_dim, curr_dim*2, kernel_size=k_size, stride=2, padding=1, bias=False))\n",
    "            layers.append(nn.InstanceNorm2d(curr_dim*2, affine=True))\n",
    "            layers.append(nn.ReLU(inplace=True))\n",
    "            curr_dim = curr_dim * 2\n",
    "\n",
    "        # Bottleneck\n",
    "        for i in range(repeat_num):\n",
    "            layers.append(ResidualBlock(dim_in=curr_dim, dim_out=curr_dim))\n",
    "\n",
    "        # Up-Sampling\n",
    "        for i in range(n_down):\n",
    "            layers.append(nn.ConvTranspose2d(curr_dim, curr_dim//2, kernel_size=k_size, stride=2, padding=1,\n",
    "                                             output_padding=1, bias=False))\n",
    "            layers.append(nn.InstanceNorm2d(curr_dim//2, affine=True))\n",
    "            layers.append(nn.ReLU(inplace=True))\n",
    "            curr_dim = curr_dim // 2\n",
    "\n",
    "        layers.append(nn.Conv2d(curr_dim, 1, kernel_size=7, stride=1, padding=3, bias=False))\n",
    "        layers.append(nn.Tanh())\n",
    "\n",
    "        self.model = nn.Sequential(*layers)\n",
    "\n",
    "    def forward(self, x, c=None):\n",
    "        if c is not None:\n",
    "            # replicate spatially and concatenate domain information\n",
    "            c = c.unsqueeze(2).unsqueeze(3)\n",
    "            c = c.expand(c.size(0), c.size(1), x.size(2), x.size(3))\n",
    "            x = torch.cat([x, c], dim=1)\n",
    "        return self.model(x)"
   ]
  },
  {
   "cell_type": "code",
   "execution_count": 103,
   "metadata": {},
   "outputs": [],
   "source": [
    "class Encoderdecoder(nn.Module):\n",
    "    \"\"\"Generator. Encoder-Decoder Architecture.\"\"\"\n",
    "    def __init__(self, conv_dim=64, c_dim=5, repeat_num=9, k_size=4, n_down=2):\n",
    "        super(Encoderdecoder, self).__init__()\n",
    "        self._name = 'resnet_generator'\n",
    "\n",
    "        layers = []\n",
    "        layers.append(nn.Conv2d(c_dim, conv_dim, kernel_size=3, stride=1, padding=0, bias=False))\n",
    "        c_dim = conv_dim\n",
    "        conv_dim *= 2\n",
    "        layers.append(nn.Conv2d(c_dim, conv_dim, kernel_size=3, stride=1, padding=0, bias=False))\n",
    "        c_dim = conv_dim\n",
    "        conv_dim *= 2\n",
    "        layers.append(nn.Conv2d(c_dim, conv_dim, kernel_size=3, stride=1, padding=0, bias=False))\n",
    "        c_dim = conv_dim\n",
    "        conv_dim *= 2\n",
    "        layers.append(nn.Conv2d(c_dim, conv_dim, kernel_size=3, stride=1, padding=0, bias=False))\n",
    "        c_dim = conv_dim\n",
    "        conv_dim *= 2\n",
    "        layers.append(nn.Conv2d(c_dim, conv_dim, kernel_size=3, stride=1, padding=0, bias=False))\n",
    "        c_dim = conv_dim\n",
    "        conv_dim *= 2\n",
    "        layers.append(nn.Conv2d(c_dim, conv_dim, kernel_size=3, stride=1, padding=0, bias=False))\n",
    "#         c_dim = conv_dim\n",
    "#         conv_dim *= 2\n",
    "        layers.append(nn.ConvTranspose2d(conv_dim, conv_dim//2, kernel_size=k_size, stride=1, padding=0,\n",
    "                                             output_padding=0, bias=False))\n",
    "#         c_dim = conv_dim\n",
    "        conv_dim = conv_dim // 2\n",
    "        layers.append(nn.ConvTranspose2d(conv_dim, conv_dim//2, kernel_size=k_size, stride=1, padding=0,\n",
    "                                             output_padding=0, bias=False))\n",
    "#         c_dim = conv_dim\n",
    "        conv_dim = conv_dim // 2\n",
    "        layers.append(nn.ConvTranspose2d(conv_dim, conv_dim//2, kernel_size=k_size, stride=1, padding=0,\n",
    "                                             output_padding=0, bias=False))\n",
    "        conv_dim = conv_dim // 2\n",
    "        layers.append(nn.ConvTranspose2d(conv_dim, 1, kernel_size=k_size, stride=1, padding=0,\n",
    "                                             output_padding=0, bias=False))\n",
    "\n",
    "        self.model = nn.Sequential(*layers)\n",
    "\n",
    "    def forward(self, x, c=None):\n",
    "        if c is not None:\n",
    "            # replicate spatially and concatenate domain information\n",
    "            c = c.unsqueeze(2).unsqueeze(3)\n",
    "            c = c.expand(c.size(0), c.size(1), x.size(2), x.size(3))\n",
    "            x = torch.cat([x, c], dim=1)\n",
    "        return self.model(x)"
   ]
  },
  {
   "cell_type": "code",
   "execution_count": 104,
   "metadata": {},
   "outputs": [],
   "source": [
    "class autoencoder(nn.Module):\n",
    "    def __init__(self):\n",
    "        super(autoencoder, self).__init__()\n",
    "        self.encoder = nn.Sequential(\n",
    "            nn.Conv2d(1, 16, 3, stride=3, padding=1),  # b, 16, 10, 10\n",
    "            nn.ReLU(True),\n",
    "            nn.MaxPool2d(2, stride=2),  # b, 16, 5, 5\n",
    "            nn.Conv2d(16, 8, 3, stride=2, padding=1),  # b, 8, 3, 3\n",
    "            nn.ReLU(True),\n",
    "            nn.MaxPool2d(2, stride=1)  # b, 8, 2, 2\n",
    "        )\n",
    "        self.decoder = nn.Sequential(\n",
    "            nn.ConvTranspose2d(8, 16, 3, stride=2),  # b, 16, 5, 5\n",
    "            nn.ReLU(True),\n",
    "            nn.ConvTranspose2d(16, 8, 5, stride=3, padding=1),  # b, 8, 15, 15\n",
    "            nn.ReLU(True),\n",
    "            nn.ConvTranspose2d(8, 1, 2, stride=2, padding=1),  # b, 1, 28, 28\n",
    "            nn.Tanh()\n",
    "        )\n",
    "\n",
    "    def forward(self, x):\n",
    "        x = self.encoder(x)\n",
    "        x = self.decoder(x)\n",
    "        return x"
   ]
  },
  {
   "cell_type": "code",
   "execution_count": 105,
   "metadata": {},
   "outputs": [],
   "source": [
    "(x_train, y_train), (x_test, y_test) = mnist.load_data()"
   ]
  },
  {
   "cell_type": "code",
   "execution_count": 106,
   "metadata": {},
   "outputs": [],
   "source": [
    "x_train = x_train.astype('float32') / 255.\n",
    "x_test = x_test.astype('float32') / 255.\n",
    "x_train = np.reshape(x_train, (len(x_train), 1, 28, 28))  # adapt this if using `channels_first` image data format\n",
    "x_test = np.reshape(x_test, (len(x_test), 1, 28, 28))  # adapt this if using `channels_first` i"
   ]
  },
  {
   "cell_type": "code",
   "execution_count": 107,
   "metadata": {},
   "outputs": [
    {
     "data": {
      "text/plain": [
       "(1, 28, 28)"
      ]
     },
     "execution_count": 107,
     "metadata": {},
     "output_type": "execute_result"
    }
   ],
   "source": [
    "x_train[0].shape"
   ]
  },
  {
   "cell_type": "code",
   "execution_count": 108,
   "metadata": {},
   "outputs": [],
   "source": [
    "def salt_and_pepper(x_train,x_test,factor):\n",
    "    noise_factor = factor\n",
    "    \n",
    "    x_train_noisy = x_train + noise_factor * np.random.normal(loc=0.0, scale=1.0, size=x_train.shape)\n",
    "    x_test_noisy = x_test + noise_factor * np.random.normal(loc=0.0, scale=1.0, size=x_test.shape)\n",
    "\n",
    "    x_train_noisy = np.clip(x_train_noisy, 0., 1.)\n",
    "    x_test_noisy = np.clip(x_test_noisy, 0., 1.)\n",
    "    \n",
    "    return x_train_noisy,x_test_noisy"
   ]
  },
  {
   "cell_type": "code",
   "execution_count": 109,
   "metadata": {},
   "outputs": [],
   "source": [
    "def gaussian_noise(x_train,x_test,sigma):\n",
    "    row,col,ch= x_train[0].shape\n",
    "    \n",
    "    x_train_noisy = skimage.util.random_noise(x_train, mode='gaussian', seed=None, clip=True, mean=0, var=sigma**2)\n",
    "\n",
    "    x_test_noisy = skimage.util.random_noise(x_test, mode='gaussian', seed=None, clip=True, mean=0, var=sigma**2)\n",
    "\n",
    "    \n",
    "    \n",
    "    x_train_noisy = np.clip(x_train_noisy, 0., 1.)\n",
    "    x_test_noisy = np.clip(x_test_noisy, 0., 1.)\n",
    "    \n",
    "    return x_train_noisy,x_test_noisy"
   ]
  },
  {
   "cell_type": "code",
   "execution_count": 110,
   "metadata": {},
   "outputs": [],
   "source": [
    "def gamma_noise(x_train,x_test,shape,scale=1.0):\n",
    "    \n",
    "    row,col,ch = x_train[0].shape\n",
    "    \n",
    "    x_train_noisy = x_train + np.random.gamma(shape,scale,x_train.shape)\n",
    "    x_test_noisy = x_test + np.random.gamma(shape,scale,x_test.shape)\n",
    "    \n",
    "    x_train_noisy = np.clip(x_train_noisy, 0., 1.)\n",
    "    x_test_noisy = np.clip(x_test_noisy, 0., 1.)\n",
    "    \n",
    "    return x_train_noisy,x_test_noisy"
   ]
  },
  {
   "cell_type": "code",
   "execution_count": 111,
   "metadata": {},
   "outputs": [],
   "source": [
    "x_train_noisy, x_test_noisy = gamma_noise(x_train,x_test,0.5)\n",
    "class Mnistdenoizing_dataset(torch.utils.data.Dataset):\n",
    "    def __init__(self, x_train, x_train_noisy):\n",
    "        self.x_train_noisy = x_train_noisy\n",
    "        self.x_train = x_train\n",
    "        \n",
    "    def __getitem__(self, idx):\n",
    "        return (torch.tensor(self.x_train[idx], requires_grad=True).type(torch.float), \n",
    "        torch.tensor(self.x_train_noisy[idx], requires_grad=True).type(torch.float))\n",
    "    \n",
    "    def __len__(self):\n",
    "        return len(self.x_train)"
   ]
  },
  {
   "cell_type": "code",
   "execution_count": 112,
   "metadata": {},
   "outputs": [
    {
     "data": {
      "image/png": "[encoded data removed]",
      "text/plain": [
       "<Figure size 1440x144 with 9 Axes>"
      ]
     },
     "metadata": {
      "needs_background": "light"
     },
     "output_type": "display_data"
    }
   ],
   "source": [
    "n = 10\n",
    "plt.figure(figsize=(20, 2))\n",
    "for i in range(1,n):\n",
    "    ax = plt.subplot(1, n, i)\n",
    "    plt.imshow(x_train_noisy[i].reshape(28, 28))\n",
    "plt.show()"
   ]
  },
  {
   "cell_type": "code",
   "execution_count": 113,
   "metadata": {},
   "outputs": [
    {
     "data": {
      "image/png": "[encoded data removed]",
      "text/plain": [
       "<Figure size 1440x144 with 9 Axes>"
      ]
     },
     "metadata": {
      "needs_background": "light"
     },
     "output_type": "display_data"
    }
   ],
   "source": [
    "n = 10\n",
    "plt.figure(figsize=(20, 2))\n",
    "for i in range(1,n):\n",
    "    ax = plt.subplot(1, n, i)\n",
    "    plt.imshow(x_train[i].reshape(28, 28))\n",
    "plt.show()"
   ]
  },
  {
   "cell_type": "code",
   "execution_count": 114,
   "metadata": {},
   "outputs": [
    {
     "name": "stdout",
     "output_type": "stream",
     "text": [
      "torch.FloatTensor\n",
      "torch.FloatTensor\n",
      "torch.FloatTensor\n",
      "torch.FloatTensor\n",
      "torch.FloatTensor\n",
      "torch.FloatTensor\n",
      "torch.FloatTensor\n",
      "torch.FloatTensor\n",
      "torch.FloatTensor\n",
      "torch.FloatTensor\n",
      "torch.FloatTensor\n",
      "torch.FloatTensor\n",
      "torch.FloatTensor\n",
      "torch.FloatTensor\n",
      "torch.FloatTensor\n",
      "torch.FloatTensor\n",
      "torch.FloatTensor\n",
      "torch.FloatTensor\n",
      "torch.FloatTensor\n",
      "torch.FloatTensor\n"
     ]
    }
   ],
   "source": [
    "for param in model1.parameters():\n",
    "#     param.data = param.data.float()\n",
    "    print(torch.typename(param.data))"
   ]
  },
  {
   "cell_type": "code",
   "execution_count": 115,
   "metadata": {},
   "outputs": [],
   "source": [
    "device = torch.device('cpu')\n",
    "model1 = model1.float()"
   ]
  },
  {
   "cell_type": "code",
   "execution_count": 116,
   "metadata": {},
   "outputs": [],
   "source": [
    "BATCH_SIZE = 1\n",
    "criterian = nn.MSELoss()\n",
    "d = Mnistdenoizing_dataset(x_train, x_train_noisy)\n",
    "def init_weight(layer):\n",
    "    if type(layer) == nn.Conv2d or type(layer) == nn.ConvTranspose2d:\n",
    "        torch.nn.init.uniform_(layer.weight)\n",
    "# model1.apply(init_weight)\n",
    "def train(model, num_epoch=10, gd=None):\n",
    "    if gd is None:\n",
    "        gd = optim.Adam(model.parameters())\n",
    "    dataloader = DataLoader(d, batch_size=BATCH_SIZE, shuffle=True)\n",
    "    losses = []\n",
    "    for epoch in tqdm(range(num_epoch)):\n",
    "        model.train(True)\n",
    "        for i, batch in enumerate(dataloader):\n",
    "            gd.zero_grad()\n",
    "            f = model(batch[1])\n",
    "            loss = criterian(batch[0], f)\n",
    "            loss.backward()\n",
    "            losses.append(loss.data.cpu().numpy())\n",
    "            gd.step()\n",
    "            gd.zero_grad()\n",
    "        train_mse = np.mean(losses[-(i+1):])\n",
    "        \n",
    "        model.train(False)\n",
    "#         for i, (batch) in enumerate(dataloader_test):\n",
    "#             batch = batch.to(device=device)\n",
    "#             scores.append(model.batch_loss(batch, batch).data.cpu().numpy())\n",
    "#         test_mse  = np.mean(scores[-(i+1):])\n",
    "\n",
    "        print(f\"{epoch+1}, Train loss: {train_mse}\")"
   ]
  },
  {
   "cell_type": "code",
   "execution_count": 117,
   "metadata": {},
   "outputs": [
    {
     "name": "stderr",
     "output_type": "stream",
     "text": [
      "\n",
      "\n",
      "\n",
      "  0%|          | 0/10 [00:00<?, ?it/s]\u001b[A\u001b[A\u001b[A"
     ]
    },
    {
     "ename": "KeyboardInterrupt",
     "evalue": "",
     "output_type": "error",
     "traceback": [
      "\u001b[0;31m---------------------------------------------------------------------------\u001b[0m",
      "\u001b[0;31mKeyboardInterrupt\u001b[0m                         Traceback (most recent call last)",
      "\u001b[0;32m<ipython-input-117-2d2f77f291f9>\u001b[0m in \u001b[0;36m<module>\u001b[0;34m\u001b[0m\n\u001b[1;32m      2\u001b[0m \u001b[0;31m# model1 = model1.float()\u001b[0m\u001b[0;34m\u001b[0m\u001b[0;34m\u001b[0m\u001b[0;34m\u001b[0m\u001b[0m\n\u001b[1;32m      3\u001b[0m \u001b[0;31m# torch.set_default_tensor_type('torch.FloatTensor')\u001b[0m\u001b[0;34m\u001b[0m\u001b[0;34m\u001b[0m\u001b[0;34m\u001b[0m\u001b[0m\n\u001b[0;32m----> 4\u001b[0;31m \u001b[0mtrain\u001b[0m\u001b[0;34m(\u001b[0m\u001b[0mmodel1\u001b[0m\u001b[0;34m)\u001b[0m\u001b[0;34m\u001b[0m\u001b[0;34m\u001b[0m\u001b[0m\n\u001b[0m\u001b[1;32m      5\u001b[0m \u001b[0;31m# model1.parameters\u001b[0m\u001b[0;34m\u001b[0m\u001b[0;34m\u001b[0m\u001b[0;34m\u001b[0m\u001b[0m\n",
      "\u001b[0;32m<ipython-input-116-3a4abc447b07>\u001b[0m in \u001b[0;36mtrain\u001b[0;34m(model, num_epoch, gd)\u001b[0m\n\u001b[1;32m     17\u001b[0m             \u001b[0mf\u001b[0m \u001b[0;34m=\u001b[0m \u001b[0mmodel\u001b[0m\u001b[0;34m(\u001b[0m\u001b[0mbatch\u001b[0m\u001b[0;34m[\u001b[0m\u001b[0;36m1\u001b[0m\u001b[0;34m]\u001b[0m\u001b[0;34m)\u001b[0m\u001b[0;34m\u001b[0m\u001b[0;34m\u001b[0m\u001b[0m\n\u001b[1;32m     18\u001b[0m             \u001b[0mloss\u001b[0m \u001b[0;34m=\u001b[0m \u001b[0mcriterian\u001b[0m\u001b[0;34m(\u001b[0m\u001b[0mbatch\u001b[0m\u001b[0;34m[\u001b[0m\u001b[0;36m0\u001b[0m\u001b[0;34m]\u001b[0m\u001b[0;34m,\u001b[0m \u001b[0mf\u001b[0m\u001b[0;34m)\u001b[0m\u001b[0;34m\u001b[0m\u001b[0;34m\u001b[0m\u001b[0m\n\u001b[0;32m---> 19\u001b[0;31m             \u001b[0mloss\u001b[0m\u001b[0;34m.\u001b[0m\u001b[0mbackward\u001b[0m\u001b[0;34m(\u001b[0m\u001b[0;34m)\u001b[0m\u001b[0;34m\u001b[0m\u001b[0;34m\u001b[0m\u001b[0m\n\u001b[0m\u001b[1;32m     20\u001b[0m             \u001b[0mlosses\u001b[0m\u001b[0;34m.\u001b[0m\u001b[0mappend\u001b[0m\u001b[0;34m(\u001b[0m\u001b[0mloss\u001b[0m\u001b[0;34m.\u001b[0m\u001b[0mdata\u001b[0m\u001b[0;34m.\u001b[0m\u001b[0mcpu\u001b[0m\u001b[0;34m(\u001b[0m\u001b[0;34m)\u001b[0m\u001b[0;34m.\u001b[0m\u001b[0mnumpy\u001b[0m\u001b[0;34m(\u001b[0m\u001b[0;34m)\u001b[0m\u001b[0;34m)\u001b[0m\u001b[0;34m\u001b[0m\u001b[0;34m\u001b[0m\u001b[0m\n\u001b[1;32m     21\u001b[0m             \u001b[0mgd\u001b[0m\u001b[0;34m.\u001b[0m\u001b[0mstep\u001b[0m\u001b[0;34m(\u001b[0m\u001b[0;34m)\u001b[0m\u001b[0;34m\u001b[0m\u001b[0;34m\u001b[0m\u001b[0m\n",
      "\u001b[0;32m~/Program/ML_practice/data-venv/lib/python3.6/site-packages/torch/tensor.py\u001b[0m in \u001b[0;36mbackward\u001b[0;34m(self, gradient, retain_graph, create_graph)\u001b[0m\n\u001b[1;32m    164\u001b[0m                 \u001b[0mproducts\u001b[0m\u001b[0;34m.\u001b[0m \u001b[0mDefaults\u001b[0m \u001b[0mto\u001b[0m\u001b[0;31m \u001b[0m\u001b[0;31m`\u001b[0m\u001b[0;31m`\u001b[0m\u001b[0;32mFalse\u001b[0m\u001b[0;31m`\u001b[0m\u001b[0;31m`\u001b[0m\u001b[0;34m.\u001b[0m\u001b[0;34m\u001b[0m\u001b[0;34m\u001b[0m\u001b[0m\n\u001b[1;32m    165\u001b[0m         \"\"\"\n\u001b[0;32m--> 166\u001b[0;31m         \u001b[0mtorch\u001b[0m\u001b[0;34m.\u001b[0m\u001b[0mautograd\u001b[0m\u001b[0;34m.\u001b[0m\u001b[0mbackward\u001b[0m\u001b[0;34m(\u001b[0m\u001b[0mself\u001b[0m\u001b[0;34m,\u001b[0m \u001b[0mgradient\u001b[0m\u001b[0;34m,\u001b[0m \u001b[0mretain_graph\u001b[0m\u001b[0;34m,\u001b[0m \u001b[0mcreate_graph\u001b[0m\u001b[0;34m)\u001b[0m\u001b[0;34m\u001b[0m\u001b[0;34m\u001b[0m\u001b[0m\n\u001b[0m\u001b[1;32m    167\u001b[0m \u001b[0;34m\u001b[0m\u001b[0m\n\u001b[1;32m    168\u001b[0m     \u001b[0;32mdef\u001b[0m \u001b[0mregister_hook\u001b[0m\u001b[0;34m(\u001b[0m\u001b[0mself\u001b[0m\u001b[0;34m,\u001b[0m \u001b[0mhook\u001b[0m\u001b[0;34m)\u001b[0m\u001b[0;34m:\u001b[0m\u001b[0;34m\u001b[0m\u001b[0;34m\u001b[0m\u001b[0m\n",
      "\u001b[0;32m~/Program/ML_practice/data-venv/lib/python3.6/site-packages/torch/autograd/__init__.py\u001b[0m in \u001b[0;36mbackward\u001b[0;34m(tensors, grad_tensors, retain_graph, create_graph, grad_variables)\u001b[0m\n\u001b[1;32m     97\u001b[0m     Variable._execution_engine.run_backward(\n\u001b[1;32m     98\u001b[0m         \u001b[0mtensors\u001b[0m\u001b[0;34m,\u001b[0m \u001b[0mgrad_tensors\u001b[0m\u001b[0;34m,\u001b[0m \u001b[0mretain_graph\u001b[0m\u001b[0;34m,\u001b[0m \u001b[0mcreate_graph\u001b[0m\u001b[0;34m,\u001b[0m\u001b[0;34m\u001b[0m\u001b[0;34m\u001b[0m\u001b[0m\n\u001b[0;32m---> 99\u001b[0;31m         allow_unreachable=True)  # allow_unreachable flag\n\u001b[0m\u001b[1;32m    100\u001b[0m \u001b[0;34m\u001b[0m\u001b[0m\n\u001b[1;32m    101\u001b[0m \u001b[0;34m\u001b[0m\u001b[0m\n",
      "\u001b[0;31mKeyboardInterrupt\u001b[0m: "
     ]
    }
   ],
   "source": [
    "# (list(model1.parameters()) + list(map(lambda x: x.parameters(), model1.decoder.skip)))\n",
    "# model1 = model1.float()\n",
    "# torch.set_default_tensor_type('torch.FloatTensor')\n",
    "train(model1)\n",
    "# model1.parameters"
   ]
  },
  {
   "cell_type": "code",
   "execution_count": 74,
   "metadata": {},
   "outputs": [],
   "source": [
    "dataloader = DataLoader(d, batch_size=BATCH_SIZE, shuffle=True)\n",
    "a, b  = next(iter(dataloader))"
   ]
  },
  {
   "cell_type": "code",
   "execution_count": 75,
   "metadata": {},
   "outputs": [
    {
     "data": {
      "text/plain": [
       "torch.Size([1, 1, 28, 28])"
      ]
     },
     "execution_count": 75,
     "metadata": {},
     "output_type": "execute_result"
    }
   ],
   "source": [
    "# plt.imshow(b[0][0])\n",
    "# a.requires_grad\n",
    "# a.shape\n",
    "# model1(a).shape\n",
    "# a = torch.tensor(np., dtype=torch.float)\n",
    "# a = a.double()\n",
    "# model1.decoder.skip[0](a)\n",
    "a.shape"
   ]
  },
  {
   "cell_type": "code",
   "execution_count": 76,
   "metadata": {},
   "outputs": [],
   "source": [
    "with torch.no_grad():\n",
    "    res = model1.forward(torch.tensor(x_test_noisy[8]).float().unsqueeze(0))"
   ]
  },
  {
   "cell_type": "code",
   "execution_count": 77,
   "metadata": {},
   "outputs": [
    {
     "data": {
      "image/png": "[encoded data removed]",
      "text/plain": [
       "<Figure size 432x288 with 1 Axes>"
      ]
     },
     "metadata": {
      "needs_background": "light"
     },
     "output_type": "display_data"
    },
    {
     "data": {
      "image/png": "[encoded data removed]",
      "text/plain": [
       "<Figure size 432x288 with 1 Axes>"
      ]
     },
     "metadata": {
      "needs_background": "light"
     },
     "output_type": "display_data"
    },
    {
     "data": {
      "image/png": "[encoded data removed]",
      "text/plain": [
       "<Figure size 432x288 with 1 Axes>"
      ]
     },
     "metadata": {
      "needs_background": "light"
     },
     "output_type": "display_data"
    }
   ],
   "source": [
    "plt.imshow(x_test[8][0])\n",
    "plt.show()\n",
    "plt.imshow(x_test_noisy[8][0])\n",
    "plt.show()\n",
    "plt.imshow(res.detach().numpy()[0][0])\n",
    "plt.show()"
   ]
  },
  {
   "cell_type": "code",
   "execution_count": null,
   "metadata": {},
   "outputs": [],
   "source": []
  },
  {
   "cell_type": "code",
   "execution_count": null,
   "metadata": {},
   "outputs": [],
   "source": []
  },
  {
   "cell_type": "code",
   "execution_count": null,
   "metadata": {},
   "outputs": [],
   "source": []
  }
 ],
 "metadata": {
  "kernelspec": {
   "display_name": "data-venv",
   "language": "python",
   "name": "data-venv"
  },
  "language_info": {
   "codemirror_mode": {
    "name": "ipython",
    "version": 3
   },
   "file_extension": ".py",
   "mimetype": "text/x-python",
   "name": "python",
   "nbconvert_exporter": "python",
   "pygments_lexer": "ipython3",
   "version": "3.6.9"
  }
 },
 "nbformat": 4,
 "nbformat_minor": 2
}
